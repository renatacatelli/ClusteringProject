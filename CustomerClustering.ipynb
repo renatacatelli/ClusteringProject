{
 "cells": [
  {
   "cell_type": "markdown",
   "id": "e0a8536f-563d-441c-ae1c-80b44ab28dd0",
   "metadata": {
    "tags": []
   },
   "source": [
    "# Business Questions"
   ]
  },
  {
   "cell_type": "markdown",
   "id": "a3d719c5-bad2-4f67-b66f-01cd07a7c4ce",
   "metadata": {},
   "source": [
    "What problem are you trying to solve? "
   ]
  },
  {
   "cell_type": "markdown",
   "id": "55c6e365-4337-416f-a2f2-8368ee76e5d9",
   "metadata": {},
   "source": [
    "- Improve customer retention and customize our marketing strategies to increase sales."
   ]
  },
  {
   "cell_type": "markdown",
   "id": "349955e7-b50a-45b1-b73a-d08872022207",
   "metadata": {},
   "source": [
    "What value will this project bring? "
   ]
  },
  {
   "cell_type": "markdown",
   "id": "1d70405a-3e6f-461e-990a-7f22fc7058fe",
   "metadata": {},
   "source": [
    "- This customer clustering project will allow us to identify groups of customers with similar behaviors and preferences. This will help us design more effective marketing strategies and offer personalized promotions, which should result in increased sales and customer retention."
   ]
  },
  {
   "cell_type": "markdown",
   "id": "160009f7-b1b2-476c-9a8f-b52a08381ac7",
   "metadata": {},
   "source": [
    "Question 1: Which are the most relevant features that can influence client segmentation?\n",
    "\n",
    "Analyze the distribution and variability of characteristics such as Quantity, UnitPrice, and explore whether they have an impact on customer segmentation.\n",
    "\n",
    "Question 2: Are there any recurring buying patterns or trends in customer buying behavior?\n",
    "\n",
    "Use time series analysis techniques to identify recurring purchase patterns based on the InvoiceDate column.\n",
    "\n",
    "Question 3: Are there natural groups of products based on characteristics such as code (StockCode) and description (Description)?\n",
    "\n",
    "Apply clustering techniques to explore whether there are natural groups of products in the data."
   ]
  },
  {
   "cell_type": "markdown",
   "id": "37081187-0161-43e7-8345-3ff1efe0604c",
   "metadata": {
    "tags": []
   },
   "source": [
    "# Import Libraries"
   ]
  },
  {
   "cell_type": "code",
   "execution_count": 8,
   "id": "f371aca1-8a3f-45a6-8e7b-78f6108e6a77",
   "metadata": {},
   "outputs": [],
   "source": [
    "import pandas as pd\n",
    "import numpy as np\n",
    "import matplotlib.pyplot as plt\n",
    "from sklearn.preprocessing import StandardScaler\n",
    "import seaborn as sns\n",
    "from sklearn.cluster import KMeans"
   ]
  },
  {
   "cell_type": "markdown",
   "id": "6190d126-439c-445b-a1c8-7bdd1e647ecc",
   "metadata": {},
   "source": [
    "# Data Preparation and Cleaning"
   ]
  },
  {
   "cell_type": "code",
   "execution_count": 10,
   "id": "dfdf7089-3403-45e9-a614-704dd157532b",
   "metadata": {},
   "outputs": [],
   "source": [
    "# load dataset\n",
    "customers_df = pd.read_excel('Online Retail.xlsx')"
   ]
  },
  {
   "cell_type": "code",
   "execution_count": 11,
   "id": "c2fbd5d2-ad11-416e-b0a5-6da80d92797c",
   "metadata": {},
   "outputs": [
    {
     "data": {
      "text/html": [
       "<div>\n",
       "<style scoped>\n",
       "    .dataframe tbody tr th:only-of-type {\n",
       "        vertical-align: middle;\n",
       "    }\n",
       "\n",
       "    .dataframe tbody tr th {\n",
       "        vertical-align: top;\n",
       "    }\n",
       "\n",
       "    .dataframe thead th {\n",
       "        text-align: right;\n",
       "    }\n",
       "</style>\n",
       "<table border=\"1\" class=\"dataframe\">\n",
       "  <thead>\n",
       "    <tr style=\"text-align: right;\">\n",
       "      <th></th>\n",
       "      <th>InvoiceNo</th>\n",
       "      <th>StockCode</th>\n",
       "      <th>Description</th>\n",
       "      <th>Quantity</th>\n",
       "      <th>InvoiceDate</th>\n",
       "      <th>UnitPrice</th>\n",
       "      <th>CustomerID</th>\n",
       "      <th>Country</th>\n",
       "    </tr>\n",
       "  </thead>\n",
       "  <tbody>\n",
       "    <tr>\n",
       "      <th>0</th>\n",
       "      <td>536365</td>\n",
       "      <td>85123A</td>\n",
       "      <td>WHITE HANGING HEART T-LIGHT HOLDER</td>\n",
       "      <td>6</td>\n",
       "      <td>2010-12-01 08:26:00</td>\n",
       "      <td>2.55</td>\n",
       "      <td>17850.0</td>\n",
       "      <td>United Kingdom</td>\n",
       "    </tr>\n",
       "    <tr>\n",
       "      <th>1</th>\n",
       "      <td>536365</td>\n",
       "      <td>71053</td>\n",
       "      <td>WHITE METAL LANTERN</td>\n",
       "      <td>6</td>\n",
       "      <td>2010-12-01 08:26:00</td>\n",
       "      <td>3.39</td>\n",
       "      <td>17850.0</td>\n",
       "      <td>United Kingdom</td>\n",
       "    </tr>\n",
       "    <tr>\n",
       "      <th>2</th>\n",
       "      <td>536365</td>\n",
       "      <td>84406B</td>\n",
       "      <td>CREAM CUPID HEARTS COAT HANGER</td>\n",
       "      <td>8</td>\n",
       "      <td>2010-12-01 08:26:00</td>\n",
       "      <td>2.75</td>\n",
       "      <td>17850.0</td>\n",
       "      <td>United Kingdom</td>\n",
       "    </tr>\n",
       "    <tr>\n",
       "      <th>3</th>\n",
       "      <td>536365</td>\n",
       "      <td>84029G</td>\n",
       "      <td>KNITTED UNION FLAG HOT WATER BOTTLE</td>\n",
       "      <td>6</td>\n",
       "      <td>2010-12-01 08:26:00</td>\n",
       "      <td>3.39</td>\n",
       "      <td>17850.0</td>\n",
       "      <td>United Kingdom</td>\n",
       "    </tr>\n",
       "    <tr>\n",
       "      <th>4</th>\n",
       "      <td>536365</td>\n",
       "      <td>84029E</td>\n",
       "      <td>RED WOOLLY HOTTIE WHITE HEART.</td>\n",
       "      <td>6</td>\n",
       "      <td>2010-12-01 08:26:00</td>\n",
       "      <td>3.39</td>\n",
       "      <td>17850.0</td>\n",
       "      <td>United Kingdom</td>\n",
       "    </tr>\n",
       "  </tbody>\n",
       "</table>\n",
       "</div>"
      ],
      "text/plain": [
       "  InvoiceNo StockCode                          Description  Quantity  \\\n",
       "0    536365    85123A   WHITE HANGING HEART T-LIGHT HOLDER         6   \n",
       "1    536365     71053                  WHITE METAL LANTERN         6   \n",
       "2    536365    84406B       CREAM CUPID HEARTS COAT HANGER         8   \n",
       "3    536365    84029G  KNITTED UNION FLAG HOT WATER BOTTLE         6   \n",
       "4    536365    84029E       RED WOOLLY HOTTIE WHITE HEART.         6   \n",
       "\n",
       "          InvoiceDate  UnitPrice  CustomerID         Country  \n",
       "0 2010-12-01 08:26:00       2.55     17850.0  United Kingdom  \n",
       "1 2010-12-01 08:26:00       3.39     17850.0  United Kingdom  \n",
       "2 2010-12-01 08:26:00       2.75     17850.0  United Kingdom  \n",
       "3 2010-12-01 08:26:00       3.39     17850.0  United Kingdom  \n",
       "4 2010-12-01 08:26:00       3.39     17850.0  United Kingdom  "
      ]
     },
     "execution_count": 11,
     "metadata": {},
     "output_type": "execute_result"
    }
   ],
   "source": [
    "# Visualize the first five rows to get an initial understanding of the data\n",
    "customers_df.head()"
   ]
  },
  {
   "cell_type": "code",
   "execution_count": 12,
   "id": "22707f4b-867d-4445-a6e4-67de42ae4930",
   "metadata": {},
   "outputs": [
    {
     "name": "stdout",
     "output_type": "stream",
     "text": [
      "<class 'pandas.core.frame.DataFrame'>\n",
      "RangeIndex: 541909 entries, 0 to 541908\n",
      "Data columns (total 8 columns):\n",
      " #   Column       Non-Null Count   Dtype         \n",
      "---  ------       --------------   -----         \n",
      " 0   InvoiceNo    541909 non-null  object        \n",
      " 1   StockCode    541909 non-null  object        \n",
      " 2   Description  540455 non-null  object        \n",
      " 3   Quantity     541909 non-null  int64         \n",
      " 4   InvoiceDate  541909 non-null  datetime64[ns]\n",
      " 5   UnitPrice    541909 non-null  float64       \n",
      " 6   CustomerID   406829 non-null  float64       \n",
      " 7   Country      541909 non-null  object        \n",
      "dtypes: datetime64[ns](1), float64(2), int64(1), object(4)\n",
      "memory usage: 33.1+ MB\n"
     ]
    }
   ],
   "source": [
    "# Get information about each column data type and check for null values\n",
    "customers_df.info()"
   ]
  },
  {
   "cell_type": "markdown",
   "id": "44cd9241-d34f-43df-a77f-b7c79524168f",
   "metadata": {},
   "source": [
    "Description and CustomerID columns seem to have some missing values."
   ]
  },
  {
   "cell_type": "markdown",
   "id": "002ad7d3-a069-46e0-9cbf-bd632fc2f57f",
   "metadata": {},
   "source": [
    "For the Description column, I will fill in the missing values with 'Unknown' value since I consider \n",
    "it vital for the context of the project because it is describing the products of the online retail."
   ]
  },
  {
   "cell_type": "code",
   "execution_count": 15,
   "id": "5432ccbe-51a9-43fc-a0d1-f6342e21df41",
   "metadata": {},
   "outputs": [],
   "source": [
    "customers_df['Description'].fillna('Unknown', inplace=True)"
   ]
  },
  {
   "cell_type": "markdown",
   "id": "1365e8d2-f1c0-48c4-8df4-23011b8ea6d1",
   "metadata": {},
   "source": [
    "Now, the Description column should have 541909 values"
   ]
  },
  {
   "cell_type": "code",
   "execution_count": 17,
   "id": "05ee7dbf-9120-4d39-8041-8c50020921f3",
   "metadata": {},
   "outputs": [],
   "source": [
    "def verify_nulls(dataframe, column):\n",
    "    \"\"\"\n",
    "    Verify if one column of the dataframe has null values\n",
    "    \n",
    "    Args:\n",
    "        dataframe (pd.DataFrame): The DataFrame.\n",
    "        column (str): Name of the column to verify.\n",
    "        \n",
    "    Returns:\n",
    "        int: Number of null values in the column.\n",
    "    \"\"\"\n",
    "    null_values = dataframe[column].isnull()\n",
    "    null_quantity = null_values.sum()\n",
    "    \n",
    "    return null_quantity"
   ]
  },
  {
   "cell_type": "code",
   "execution_count": 18,
   "id": "5174ed3e-25b5-4d1e-bb18-7344d79f5006",
   "metadata": {},
   "outputs": [
    {
     "data": {
      "text/plain": [
       "0"
      ]
     },
     "execution_count": 18,
     "metadata": {},
     "output_type": "execute_result"
    }
   ],
   "source": [
    "verify_nulls(customers_df,'Description')"
   ]
  },
  {
   "cell_type": "markdown",
   "id": "c1e76710-9b89-4e04-93c8-cae998c13f69",
   "metadata": {},
   "source": [
    "The code worked and column Description has now 0 null values. "
   ]
  },
  {
   "cell_type": "markdown",
   "id": "e3141da3-dfad-4142-83fb-8cde93213c16",
   "metadata": {},
   "source": [
    "Now, let's tackle CustomerID column. I will first check the percentage of missing values this column represents, to then make a decision about it."
   ]
  },
  {
   "cell_type": "code",
   "execution_count": 21,
   "id": "1e4304d4-4d18-4007-ac4f-70dc6fae6bb2",
   "metadata": {},
   "outputs": [],
   "source": [
    "def percentage_missing_values(dataframe, column):\n",
    "    total_rows=len(dataframe)\n",
    "    missing_values=dataframe[column].isnull().sum()\n",
    "    percentage = (missing_values / total_rows) * 100\n",
    "    return percentage"
   ]
  },
  {
   "cell_type": "code",
   "execution_count": 22,
   "id": "c57b2b9a-e548-461c-ad1e-ea10bd941c07",
   "metadata": {},
   "outputs": [
    {
     "name": "stdout",
     "output_type": "stream",
     "text": [
      "The missing values percentage in column \"CustomerID\" is: 24.926694334288598%\n"
     ]
    }
   ],
   "source": [
    "percentage_mv_CustomerID = percentage_missing_values(customers_df, 'CustomerID')\n",
    "print(f'The missing values percentage in column \"CustomerID\" is: {percentage_mv_CustomerID}%')"
   ]
  },
  {
   "cell_type": "markdown",
   "id": "dc2f675a-830d-4646-ada9-916b54914be1",
   "metadata": {},
   "source": [
    "Since we have a quarter of the values missing in CustomerID column, I will assign unique identifiers to them"
   ]
  },
  {
   "cell_type": "code",
   "execution_count": 24,
   "id": "26eb6027-ca29-43b8-b6de-c2e96ca22f41",
   "metadata": {},
   "outputs": [],
   "source": [
    "# Create a new column 'NewCustomerID' with unique identifiers\n",
    "\n",
    "customers_df['NewCustomerID'] = np.where(customers_df['CustomerID'].isnull(), np.arange(len(customers_df)), customers_df['CustomerID'])"
   ]
  },
  {
   "cell_type": "markdown",
   "id": "87b10bee-51a5-480b-9377-eadece96e562",
   "metadata": {},
   "source": [
    "This column will have unique identifiers for all records. Thus, I will keep working with this column and \n",
    "drop CustomerID one."
   ]
  },
  {
   "cell_type": "code",
   "execution_count": 26,
   "id": "321dd49a-0824-4047-9a86-28646d6fd3c4",
   "metadata": {},
   "outputs": [
    {
     "data": {
      "text/plain": [
       "0"
      ]
     },
     "execution_count": 26,
     "metadata": {},
     "output_type": "execute_result"
    }
   ],
   "source": [
    "customers_df.drop(columns=['CustomerID'], inplace=True)\n",
    "\n",
    "# Check that 'NewCustomerID' column does not have missing values:\n",
    "\n",
    "verify_nulls(customers_df, 'NewCustomerID')"
   ]
  },
  {
   "cell_type": "markdown",
   "id": "0bd82fd7-24d7-4cad-8e30-7cc9bd45fbbd",
   "metadata": {},
   "source": [
    "Now that I have managed the missing values in columns 'Description' and 'CustomerID' as a new column 'NewCustomerID' I will inspect again for a final check that there are no more missing values."
   ]
  },
  {
   "cell_type": "code",
   "execution_count": 28,
   "id": "b92dff45-c777-4010-b492-d0c86940e6e2",
   "metadata": {},
   "outputs": [
    {
     "data": {
      "text/plain": [
       "InvoiceNo        0\n",
       "StockCode        0\n",
       "Description      0\n",
       "Quantity         0\n",
       "InvoiceDate      0\n",
       "UnitPrice        0\n",
       "Country          0\n",
       "NewCustomerID    0\n",
       "dtype: int64"
      ]
     },
     "execution_count": 28,
     "metadata": {},
     "output_type": "execute_result"
    }
   ],
   "source": [
    "customers_df.isnull().sum()"
   ]
  },
  {
   "cell_type": "markdown",
   "id": "32ffb25d-8430-434d-9fc3-97322099dc48",
   "metadata": {},
   "source": [
    "We do not have missing values now !"
   ]
  },
  {
   "cell_type": "code",
   "execution_count": 30,
   "id": "1fbcfbc3-8228-4e3e-89f1-8de33d4399a7",
   "metadata": {},
   "outputs": [
    {
     "data": {
      "text/plain": [
       "Index(['InvoiceNo', 'StockCode', 'Description', 'Quantity', 'InvoiceDate',\n",
       "       'UnitPrice', 'Country', 'NewCustomerID'],\n",
       "      dtype='object')"
      ]
     },
     "execution_count": 30,
     "metadata": {},
     "output_type": "execute_result"
    }
   ],
   "source": [
    "# Final revision of the columns\n",
    "customers_df.columns"
   ]
  },
  {
   "cell_type": "markdown",
   "id": "f2e063af-b92d-46e2-a3f8-b456f69b00dd",
   "metadata": {},
   "source": [
    "# EDA"
   ]
  },
  {
   "cell_type": "code",
   "execution_count": 32,
   "id": "4076581e-d232-40f2-a7a7-f2662d10a714",
   "metadata": {},
   "outputs": [
    {
     "name": "stdout",
     "output_type": "stream",
     "text": [
      "            Quantity      UnitPrice\n",
      "count  541909.000000  541909.000000\n",
      "mean        9.552250       4.611114\n",
      "std       218.081158      96.759853\n",
      "min    -80995.000000  -11062.060000\n",
      "25%         1.000000       1.250000\n",
      "50%         3.000000       2.080000\n",
      "75%        10.000000       4.130000\n",
      "max     80995.000000   38970.000000\n"
     ]
    }
   ],
   "source": [
    "# Calculate descriptive statistics such as mean, median, standard deviation, minimum \n",
    "# and maximum for each of these characteristics. \n",
    "# This will give you an idea of the distribution and variability of the data.\n",
    "\n",
    "# Estadísticas descriptivas para 'Quantity' y 'UnitPrice'\n",
    "print(customers_df[['Quantity', 'UnitPrice']].describe())"
   ]
  },
  {
   "cell_type": "code",
   "execution_count": 33,
   "id": "3220f171-0960-4f77-b7d7-102347bfd115",
   "metadata": {},
   "outputs": [
    {
     "data": {
      "image/png": "[encoded data removed]",
      "text/plain": [
       "<Figure size 640x480 with 1 Axes>"
      ]
     },
     "metadata": {},
     "output_type": "display_data"
    },
    {
     "data": {
      "image/png": "[encoded data removed]",
      "text/plain": [
       "<Figure size 640x480 with 1 Axes>"
      ]
     },
     "metadata": {},
     "output_type": "display_data"
    }
   ],
   "source": [
    "#'Quantity' Histogram\n",
    "plt.hist(customers_df['Quantity'], bins=20)\n",
    "plt.xlabel('Quantity')\n",
    "plt.ylabel('Frequency')\n",
    "plt.title('Quantity Distribution')\n",
    "plt.show()\n",
    "\n",
    "# 'Quantity' vs 'UnitPrice' scatter plot\n",
    "plt.scatter(customers_df['Quantity'], customers_df['UnitPrice'])\n",
    "plt.xlabel('Quantity')\n",
    "plt.ylabel('UnitPrice')\n",
    "plt.title('Relationship between Quantity and Unit Price')\n",
    "plt.show()"
   ]
  },
  {
   "cell_type": "markdown",
   "id": "a10af612-c1f2-48f7-81c5-48644f13fe08",
   "metadata": {
    "tags": []
   },
   "source": [
    "# Preprocessing and Feature Engineering"
   ]
  },
  {
   "cell_type": "markdown",
   "id": "d6babe4a-59db-45b1-b381-7e8761eb587a",
   "metadata": {},
   "source": [
    "Normalization and Standarization"
   ]
  },
  {
   "cell_type": "code",
   "execution_count": 36,
   "id": "d8b8143d-7f03-482a-904d-2a500fe259a0",
   "metadata": {},
   "outputs": [],
   "source": [
    "# Given that 'Quantity' and 'UnitPrice' have different scales, I am going to standardixe them so they have an \n",
    "# equal currency in the clustering.\n",
    "\n",
    "scaler = StandardScaler()\n",
    "customers_df[['Quantity', 'UnitPrice']] = scaler.fit_transform(customers_df[['Quantity', 'UnitPrice']])"
   ]
  },
  {
   "cell_type": "markdown",
   "id": "b988c829-a920-4c1a-91f6-0c95a180058e",
   "metadata": {},
   "source": [
    "Encode categorical columns"
   ]
  },
  {
   "cell_type": "code",
   "execution_count": 38,
   "id": "497df010-b18a-4bb2-b6ba-59b0e8a6775b",
   "metadata": {},
   "outputs": [
    {
     "data": {
      "text/plain": [
       "(38,\n",
       " array(['United Kingdom', 'France', 'Australia', 'Netherlands', 'Germany',\n",
       "        'Norway', 'EIRE', 'Switzerland', 'Spain', 'Poland', 'Portugal',\n",
       "        'Italy', 'Belgium', 'Lithuania', 'Japan', 'Iceland',\n",
       "        'Channel Islands', 'Denmark', 'Cyprus', 'Sweden', 'Austria',\n",
       "        'Israel', 'Finland', 'Bahrain', 'Greece', 'Hong Kong', 'Singapore',\n",
       "        'Lebanon', 'United Arab Emirates', 'Saudi Arabia',\n",
       "        'Czech Republic', 'Canada', 'Unspecified', 'Brazil', 'USA',\n",
       "        'European Community', 'Malta', 'RSA'], dtype=object))"
      ]
     },
     "execution_count": 38,
     "metadata": {},
     "output_type": "execute_result"
    }
   ],
   "source": [
    "# For column 'Country' I will check how many distinct values it has, to then decide whether I perform one hot \n",
    "# encoding or other technique\n",
    "\n",
    "def distinct_values(customers_df, column):\n",
    "    quantity_distinct=customers_df[column].nunique()\n",
    "    distinct=customers_df[column].unique()\n",
    "    return quantity_distinct, distinct\n",
    "\n",
    "distinct_values(customers_df, 'Country')"
   ]
  },
  {
   "cell_type": "markdown",
   "id": "136e8dc6-9bff-4afb-970f-1677a2b33b04",
   "metadata": {},
   "source": [
    "Given that we have 38 countries, I will identify the N most common countries and create a column for each of them. The rest of the countries will be grouped in a category called 'Other'. This technique is useful if there are some countries that are much more common than others."
   ]
  },
  {
   "cell_type": "code",
   "execution_count": 40,
   "id": "87cd8b87-aecb-4395-ac45-164092e56a79",
   "metadata": {},
   "outputs": [],
   "source": [
    "# Identify the N most common countries\n",
    "top_countries = customers_df['Country'].value_counts().nlargest(5).index.tolist()\n",
    "\n",
    "# Create columns for most common countries\n",
    "for country in top_countries:\n",
    "    customers_df[f'Country_{country}'] = (customers_df['Country'] == country).astype(int)\n",
    "\n",
    "# Create column 'Country_Others' for the rest of the countries\n",
    "customers_df['Country_Others'] = customers_df['Country'].apply(lambda x: 1 if x not in top_countries else 0)\n"
   ]
  },
  {
   "cell_type": "code",
   "execution_count": 41,
   "id": "d5877e2d-e174-4306-b85c-2a02c34aae05",
   "metadata": {},
   "outputs": [
    {
     "data": {
      "text/html": [
       "<div>\n",
       "<style scoped>\n",
       "    .dataframe tbody tr th:only-of-type {\n",
       "        vertical-align: middle;\n",
       "    }\n",
       "\n",
       "    .dataframe tbody tr th {\n",
       "        vertical-align: top;\n",
       "    }\n",
       "\n",
       "    .dataframe thead th {\n",
       "        text-align: right;\n",
       "    }\n",
       "</style>\n",
       "<table border=\"1\" class=\"dataframe\">\n",
       "  <thead>\n",
       "    <tr style=\"text-align: right;\">\n",
       "      <th></th>\n",
       "      <th>InvoiceNo</th>\n",
       "      <th>StockCode</th>\n",
       "      <th>Description</th>\n",
       "      <th>Quantity</th>\n",
       "      <th>InvoiceDate</th>\n",
       "      <th>UnitPrice</th>\n",
       "      <th>Country</th>\n",
       "      <th>NewCustomerID</th>\n",
       "      <th>Country_United Kingdom</th>\n",
       "      <th>Country_Germany</th>\n",
       "      <th>Country_France</th>\n",
       "      <th>Country_EIRE</th>\n",
       "      <th>Country_Spain</th>\n",
       "      <th>Country_Others</th>\n",
       "    </tr>\n",
       "  </thead>\n",
       "  <tbody>\n",
       "    <tr>\n",
       "      <th>0</th>\n",
       "      <td>536365</td>\n",
       "      <td>85123A</td>\n",
       "      <td>WHITE HANGING HEART T-LIGHT HOLDER</td>\n",
       "      <td>-0.016289</td>\n",
       "      <td>2010-12-01 08:26:00</td>\n",
       "      <td>-0.021301</td>\n",
       "      <td>United Kingdom</td>\n",
       "      <td>17850.0</td>\n",
       "      <td>1</td>\n",
       "      <td>0</td>\n",
       "      <td>0</td>\n",
       "      <td>0</td>\n",
       "      <td>0</td>\n",
       "      <td>0</td>\n",
       "    </tr>\n",
       "    <tr>\n",
       "      <th>1</th>\n",
       "      <td>536365</td>\n",
       "      <td>71053</td>\n",
       "      <td>WHITE METAL LANTERN</td>\n",
       "      <td>-0.016289</td>\n",
       "      <td>2010-12-01 08:26:00</td>\n",
       "      <td>-0.012620</td>\n",
       "      <td>United Kingdom</td>\n",
       "      <td>17850.0</td>\n",
       "      <td>1</td>\n",
       "      <td>0</td>\n",
       "      <td>0</td>\n",
       "      <td>0</td>\n",
       "      <td>0</td>\n",
       "      <td>0</td>\n",
       "    </tr>\n",
       "    <tr>\n",
       "      <th>2</th>\n",
       "      <td>536365</td>\n",
       "      <td>84406B</td>\n",
       "      <td>CREAM CUPID HEARTS COAT HANGER</td>\n",
       "      <td>-0.007118</td>\n",
       "      <td>2010-12-01 08:26:00</td>\n",
       "      <td>-0.019234</td>\n",
       "      <td>United Kingdom</td>\n",
       "      <td>17850.0</td>\n",
       "      <td>1</td>\n",
       "      <td>0</td>\n",
       "      <td>0</td>\n",
       "      <td>0</td>\n",
       "      <td>0</td>\n",
       "      <td>0</td>\n",
       "    </tr>\n",
       "    <tr>\n",
       "      <th>3</th>\n",
       "      <td>536365</td>\n",
       "      <td>84029G</td>\n",
       "      <td>KNITTED UNION FLAG HOT WATER BOTTLE</td>\n",
       "      <td>-0.016289</td>\n",
       "      <td>2010-12-01 08:26:00</td>\n",
       "      <td>-0.012620</td>\n",
       "      <td>United Kingdom</td>\n",
       "      <td>17850.0</td>\n",
       "      <td>1</td>\n",
       "      <td>0</td>\n",
       "      <td>0</td>\n",
       "      <td>0</td>\n",
       "      <td>0</td>\n",
       "      <td>0</td>\n",
       "    </tr>\n",
       "    <tr>\n",
       "      <th>4</th>\n",
       "      <td>536365</td>\n",
       "      <td>84029E</td>\n",
       "      <td>RED WOOLLY HOTTIE WHITE HEART.</td>\n",
       "      <td>-0.016289</td>\n",
       "      <td>2010-12-01 08:26:00</td>\n",
       "      <td>-0.012620</td>\n",
       "      <td>United Kingdom</td>\n",
       "      <td>17850.0</td>\n",
       "      <td>1</td>\n",
       "      <td>0</td>\n",
       "      <td>0</td>\n",
       "      <td>0</td>\n",
       "      <td>0</td>\n",
       "      <td>0</td>\n",
       "    </tr>\n",
       "  </tbody>\n",
       "</table>\n",
       "</div>"
      ],
      "text/plain": [
       "  InvoiceNo StockCode                          Description  Quantity  \\\n",
       "0    536365    85123A   WHITE HANGING HEART T-LIGHT HOLDER -0.016289   \n",
       "1    536365     71053                  WHITE METAL LANTERN -0.016289   \n",
       "2    536365    84406B       CREAM CUPID HEARTS COAT HANGER -0.007118   \n",
       "3    536365    84029G  KNITTED UNION FLAG HOT WATER BOTTLE -0.016289   \n",
       "4    536365    84029E       RED WOOLLY HOTTIE WHITE HEART. -0.016289   \n",
       "\n",
       "          InvoiceDate  UnitPrice         Country  NewCustomerID  \\\n",
       "0 2010-12-01 08:26:00  -0.021301  United Kingdom        17850.0   \n",
       "1 2010-12-01 08:26:00  -0.012620  United Kingdom        17850.0   \n",
       "2 2010-12-01 08:26:00  -0.019234  United Kingdom        17850.0   \n",
       "3 2010-12-01 08:26:00  -0.012620  United Kingdom        17850.0   \n",
       "4 2010-12-01 08:26:00  -0.012620  United Kingdom        17850.0   \n",
       "\n",
       "   Country_United Kingdom  Country_Germany  Country_France  Country_EIRE  \\\n",
       "0                       1                0               0             0   \n",
       "1                       1                0               0             0   \n",
       "2                       1                0               0             0   \n",
       "3                       1                0               0             0   \n",
       "4                       1                0               0             0   \n",
       "\n",
       "   Country_Spain  Country_Others  \n",
       "0              0               0  \n",
       "1              0               0  \n",
       "2              0               0  \n",
       "3              0               0  \n",
       "4              0               0  "
      ]
     },
     "execution_count": 41,
     "metadata": {},
     "output_type": "execute_result"
    }
   ],
   "source": [
    "#To verify if it worked, we can:\n",
    "\n",
    "# Revise the added columns and use customers_df.head() to inspect the first rows of the dataframe\n",
    "# with the new columns.\n",
    "\n",
    "customers_df.head()"
   ]
  },
  {
   "cell_type": "code",
   "execution_count": 60,
   "id": "e94f381d-aee4-4863-a156-8f0f17babdb5",
   "metadata": {},
   "outputs": [
    {
     "name": "stdout",
     "output_type": "stream",
     "text": [
      "   Country_United Kingdom  Country_Others\n",
      "0                       1               0\n",
      "1                       1               0\n",
      "2                       1               0\n",
      "3                       1               0\n",
      "4                       1               0\n",
      "   Country_Germany  Country_Others\n",
      "0                0               0\n",
      "1                0               0\n",
      "2                0               0\n",
      "3                0               0\n",
      "4                0               0\n"
     ]
    }
   ],
   "source": [
    "#Check the encoding logic:\n",
    "\n",
    "#For a specific country, let's verify if the encoding is performed correctly. \n",
    "\n",
    "#For example, if we select a common country and a less common country, you can check whether the corresponding column\n",
    "#is set to 1 or 0 as appropriate.\n",
    "\n",
    "# Check a common country\n",
    "print(customers_df[['Country_United Kingdom', 'Country_Others']].head())\n",
    "\n",
    "# Check a less common country\n",
    "print(customers_df[['Country_Germany', 'Country_Others']].head())"
   ]
  },
  {
   "cell_type": "code",
   "execution_count": 62,
   "id": "cb7efff6-7c8b-46c2-859b-6a08fffca000",
   "metadata": {},
   "outputs": [
    {
     "name": "stdout",
     "output_type": "stream",
     "text": [
      "1    531180\n",
      "0     10729\n",
      "dtype: int64\n"
     ]
    }
   ],
   "source": [
    "#Sum of Coding Columns:\n",
    "\n",
    "#If we sum the coding columns for a client, the total should be 1. \n",
    "# (Since it will belong to one and only one of the groups).\n",
    "\n",
    "total_encoding = customers_df[['Country_United Kingdom', 'Country_Germany', 'Country_France', 'Country_Others']].sum(axis=1)\n",
    "print(total_encoding.value_counts())"
   ]
  },
  {
   "cell_type": "markdown",
   "id": "4f26e98b-b8a9-4cba-aa6e-742aae66161f",
   "metadata": {},
   "source": [
    "Time Series Analysis:\n",
    "Given that we are interested in recurring purchase patterns, I will convert the InvoiceDate column to date and time format and extract relevant features such as day of the week and time."
   ]
  },
  {
   "cell_type": "code",
   "execution_count": 65,
   "id": "115df3d5-51a3-444d-954d-270d674bbd44",
   "metadata": {},
   "outputs": [],
   "source": [
    "customers_df['InvoiceDate'] = pd.to_datetime(customers_df['InvoiceDate'])\n",
    "customers_df['Weekday'] = customers_df['InvoiceDate'].dt.dayofweek\n",
    "customers_df['Hour'] = customers_df['InvoiceDate'].dt.hour"
   ]
  },
  {
   "cell_type": "code",
   "execution_count": 67,
   "id": "36be179c-ce1c-4b49-b288-0835d758d87e",
   "metadata": {},
   "outputs": [
    {
     "data": {
      "text/html": [
       "<div>\n",
       "<style scoped>\n",
       "    .dataframe tbody tr th:only-of-type {\n",
       "        vertical-align: middle;\n",
       "    }\n",
       "\n",
       "    .dataframe tbody tr th {\n",
       "        vertical-align: top;\n",
       "    }\n",
       "\n",
       "    .dataframe thead th {\n",
       "        text-align: right;\n",
       "    }\n",
       "</style>\n",
       "<table border=\"1\" class=\"dataframe\">\n",
       "  <thead>\n",
       "    <tr style=\"text-align: right;\">\n",
       "      <th></th>\n",
       "      <th>InvoiceNo</th>\n",
       "      <th>StockCode</th>\n",
       "      <th>Description</th>\n",
       "      <th>Quantity</th>\n",
       "      <th>InvoiceDate</th>\n",
       "      <th>UnitPrice</th>\n",
       "      <th>Country</th>\n",
       "      <th>NewCustomerID</th>\n",
       "      <th>Country_United Kingdom</th>\n",
       "      <th>Country_Germany</th>\n",
       "      <th>Country_France</th>\n",
       "      <th>Country_EIRE</th>\n",
       "      <th>Country_Spain</th>\n",
       "      <th>Country_Others</th>\n",
       "      <th>Weekday</th>\n",
       "      <th>Hour</th>\n",
       "    </tr>\n",
       "  </thead>\n",
       "  <tbody>\n",
       "    <tr>\n",
       "      <th>0</th>\n",
       "      <td>536365</td>\n",
       "      <td>85123A</td>\n",
       "      <td>WHITE HANGING HEART T-LIGHT HOLDER</td>\n",
       "      <td>-0.016289</td>\n",
       "      <td>2010-12-01 08:26:00</td>\n",
       "      <td>-0.021301</td>\n",
       "      <td>United Kingdom</td>\n",
       "      <td>17850.0</td>\n",
       "      <td>1</td>\n",
       "      <td>0</td>\n",
       "      <td>0</td>\n",
       "      <td>0</td>\n",
       "      <td>0</td>\n",
       "      <td>0</td>\n",
       "      <td>2</td>\n",
       "      <td>8</td>\n",
       "    </tr>\n",
       "    <tr>\n",
       "      <th>1</th>\n",
       "      <td>536365</td>\n",
       "      <td>71053</td>\n",
       "      <td>WHITE METAL LANTERN</td>\n",
       "      <td>-0.016289</td>\n",
       "      <td>2010-12-01 08:26:00</td>\n",
       "      <td>-0.012620</td>\n",
       "      <td>United Kingdom</td>\n",
       "      <td>17850.0</td>\n",
       "      <td>1</td>\n",
       "      <td>0</td>\n",
       "      <td>0</td>\n",
       "      <td>0</td>\n",
       "      <td>0</td>\n",
       "      <td>0</td>\n",
       "      <td>2</td>\n",
       "      <td>8</td>\n",
       "    </tr>\n",
       "    <tr>\n",
       "      <th>2</th>\n",
       "      <td>536365</td>\n",
       "      <td>84406B</td>\n",
       "      <td>CREAM CUPID HEARTS COAT HANGER</td>\n",
       "      <td>-0.007118</td>\n",
       "      <td>2010-12-01 08:26:00</td>\n",
       "      <td>-0.019234</td>\n",
       "      <td>United Kingdom</td>\n",
       "      <td>17850.0</td>\n",
       "      <td>1</td>\n",
       "      <td>0</td>\n",
       "      <td>0</td>\n",
       "      <td>0</td>\n",
       "      <td>0</td>\n",
       "      <td>0</td>\n",
       "      <td>2</td>\n",
       "      <td>8</td>\n",
       "    </tr>\n",
       "    <tr>\n",
       "      <th>3</th>\n",
       "      <td>536365</td>\n",
       "      <td>84029G</td>\n",
       "      <td>KNITTED UNION FLAG HOT WATER BOTTLE</td>\n",
       "      <td>-0.016289</td>\n",
       "      <td>2010-12-01 08:26:00</td>\n",
       "      <td>-0.012620</td>\n",
       "      <td>United Kingdom</td>\n",
       "      <td>17850.0</td>\n",
       "      <td>1</td>\n",
       "      <td>0</td>\n",
       "      <td>0</td>\n",
       "      <td>0</td>\n",
       "      <td>0</td>\n",
       "      <td>0</td>\n",
       "      <td>2</td>\n",
       "      <td>8</td>\n",
       "    </tr>\n",
       "    <tr>\n",
       "      <th>4</th>\n",
       "      <td>536365</td>\n",
       "      <td>84029E</td>\n",
       "      <td>RED WOOLLY HOTTIE WHITE HEART.</td>\n",
       "      <td>-0.016289</td>\n",
       "      <td>2010-12-01 08:26:00</td>\n",
       "      <td>-0.012620</td>\n",
       "      <td>United Kingdom</td>\n",
       "      <td>17850.0</td>\n",
       "      <td>1</td>\n",
       "      <td>0</td>\n",
       "      <td>0</td>\n",
       "      <td>0</td>\n",
       "      <td>0</td>\n",
       "      <td>0</td>\n",
       "      <td>2</td>\n",
       "      <td>8</td>\n",
       "    </tr>\n",
       "  </tbody>\n",
       "</table>\n",
       "</div>"
      ],
      "text/plain": [
       "  InvoiceNo StockCode                          Description  Quantity  \\\n",
       "0    536365    85123A   WHITE HANGING HEART T-LIGHT HOLDER -0.016289   \n",
       "1    536365     71053                  WHITE METAL LANTERN -0.016289   \n",
       "2    536365    84406B       CREAM CUPID HEARTS COAT HANGER -0.007118   \n",
       "3    536365    84029G  KNITTED UNION FLAG HOT WATER BOTTLE -0.016289   \n",
       "4    536365    84029E       RED WOOLLY HOTTIE WHITE HEART. -0.016289   \n",
       "\n",
       "          InvoiceDate  UnitPrice         Country  NewCustomerID  \\\n",
       "0 2010-12-01 08:26:00  -0.021301  United Kingdom        17850.0   \n",
       "1 2010-12-01 08:26:00  -0.012620  United Kingdom        17850.0   \n",
       "2 2010-12-01 08:26:00  -0.019234  United Kingdom        17850.0   \n",
       "3 2010-12-01 08:26:00  -0.012620  United Kingdom        17850.0   \n",
       "4 2010-12-01 08:26:00  -0.012620  United Kingdom        17850.0   \n",
       "\n",
       "   Country_United Kingdom  Country_Germany  Country_France  Country_EIRE  \\\n",
       "0                       1                0               0             0   \n",
       "1                       1                0               0             0   \n",
       "2                       1                0               0             0   \n",
       "3                       1                0               0             0   \n",
       "4                       1                0               0             0   \n",
       "\n",
       "   Country_Spain  Country_Others  Weekday  Hour  \n",
       "0              0               0        2     8  \n",
       "1              0               0        2     8  \n",
       "2              0               0        2     8  \n",
       "3              0               0        2     8  \n",
       "4              0               0        2     8  "
      ]
     },
     "execution_count": 67,
     "metadata": {},
     "output_type": "execute_result"
    }
   ],
   "source": [
    "# Now, to verify if this transformation was successful and if it provides useful information about customer buying behavior, we can follow these steps:\n",
    "    \n",
    "# Check the New Columns:\n",
    "# Let's verify that the new columns ('Weekday' and 'Hour') have been correctly added to the DataFrame. \n",
    "\n",
    "customers_df.head()"
   ]
  },
  {
   "cell_type": "code",
   "execution_count": 69,
   "id": "fa90cba0-364d-44ba-95c6-c50e56f72291",
   "metadata": {},
   "outputs": [
    {
     "name": "stdout",
     "output_type": "stream",
     "text": [
      "Weekday\n",
      "0   -427.226697\n",
      "1    -50.221817\n",
      "2    303.784074\n",
      "3    805.916397\n",
      "4     42.699524\n",
      "6   -674.951481\n",
      "Name: Quantity, dtype: float64\n",
      "Hour\n",
      "6      -2.190206\n",
      "7      53.661212\n",
      "8     335.022415\n",
      "9     465.048256\n",
      "10    990.468596\n",
      "11    397.813550\n",
      "12    330.551514\n",
      "13    -61.596392\n",
      "14   -334.512606\n",
      "15   -599.643521\n",
      "16   -955.761748\n",
      "17   -531.885425\n",
      "18    -71.325063\n",
      "19    -15.412096\n",
      "20     -0.238486\n",
      "Name: Quantity, dtype: float64\n"
     ]
    }
   ],
   "source": [
    "#Explore Trends:\n",
    "\n",
    "# Perform some exploratory analysis to identify trends in purchases based on days of the week ('Weekday') and hours of the day ('Hour'). \n",
    "total_purchases_by_weekday = customers_df.groupby('Weekday')['Quantity'].sum()\n",
    "total_purchases_by_hour = customers_df.groupby('Hour')['Quantity'].sum()\n",
    "\n",
    "print(total_purchases_by_weekday)\n",
    "print(total_purchases_by_hour)"
   ]
  },
  {
   "cell_type": "markdown",
   "id": "c09a2978-c963-43b6-b00b-dc6f5d97a932",
   "metadata": {},
   "source": [
    "The results obtained indicate the total amount of purchases (in terms of quantity of products) for each day of the week and for each hour of the day.\n",
    "\n",
    "For the column 'Weekday':\n",
    "\n",
    "Negative values indicate that more products were returned than were purchased on that day of the week.\n",
    "Positive values indicate that more products were purchased than were returned on that weekday.\n",
    "For example, for the first day of the week (Monday), more products have been returned than have been purchased in total.\n",
    "\n",
    "For the column 'Hour':\n",
    "\n",
    "Positive values indicate that more products were purchased at that hour of the day compared to the number of products returned.\n",
    "Negative values indicate that more products were returned at that hour of the day compared to the number of products purchased.\n",
    "For example, for the sixth hour of the day (6 AM), more products were returned than were purchased in total.\n",
    "These results suggest that there is some variation in product purchase and return behavior by day of the week and time of day. It may be useful to further investigate these trends to better understand customer behavior and how they may influence segmentation."
   ]
  },
  {
   "cell_type": "code",
   "execution_count": 73,
   "id": "00af15b6-cb67-474b-aeaa-f6034e8411ee",
   "metadata": {},
   "outputs": [
    {
     "data": {
      "image/png": "[encoded data removed]",
      "text/plain": [
       "<Figure size 1000x500 with 1 Axes>"
      ]
     },
     "metadata": {},
     "output_type": "display_data"
    },
    {
     "data": {
      "image/png": "[encoded data removed]",
      "text/plain": [
       "<Figure size 1000x500 with 1 Axes>"
      ]
     },
     "metadata": {},
     "output_type": "display_data"
    }
   ],
   "source": [
    "# Line chart for trends by day of the week\n",
    "plt.figure(figsize=(10, 5))\n",
    "plt.plot(total_purchases_by_weekday.index, total_purchases_by_weekday.values, marker='o')\n",
    "plt.title('Shopping Trends by Day of the Week')\n",
    "plt.xlabel('Day of the Week')\n",
    "plt.ylabel('Total Amount of Purchases')\n",
    "plt.xticks(total_purchases_by_weekday.index, ['Monday', 'Tuesday', 'Wednesday', 'Thursday', 'Friday', 'Saturday'])\n",
    "plt.grid(True)\n",
    "plt.show()\n",
    "\n",
    "# Line chart for trends by time of day\n",
    "plt.figure(figsize=(10, 5))\n",
    "plt.plot(total_purchases_by_hour.index, total_purchases_by_hour.values, marker='o', color='orange')\n",
    "plt.title('Shopping Trends by Time of Day')\n",
    "plt.xlabel('Time of Day')\n",
    "plt.ylabel('Total Amount of Purchases')\n",
    "plt.grid(True)\n",
    "plt.show()\n"
   ]
  },
  {
   "cell_type": "code",
   "execution_count": 77,
   "id": "c5d6f585-2ff1-4417-9326-a542584bc108",
   "metadata": {},
   "outputs": [
    {
     "name": "stderr",
     "output_type": "stream",
     "text": [
      "/tmp/ipykernel_538/2082954678.py:2: FutureWarning: The default value of numeric_only in DataFrame.corr is deprecated. In a future version, it will default to False. Select only valid columns or specify the value of numeric_only to silence this warning.\n",
      "  correlation_matrix = customers_df.corr()\n"
     ]
    },
    {
     "data": {
      "image/png": "[encoded data removed]",
      "text/plain": [
       "<Figure size 1000x800 with 2 Axes>"
      ]
     },
     "metadata": {},
     "output_type": "display_data"
    }
   ],
   "source": [
    "# Calculate the correlation matrix\n",
    "correlation_matrix = customers_df.corr()\n",
    "\n",
    "# Create a heat map\n",
    "plt.figure(figsize=(10, 8))\n",
    "sns.heatmap(correlation_matrix, annot=True, cmap='coolwarm')\n",
    "plt.title('Correlation Matrix')\n",
    "plt.show()"
   ]
  },
  {
   "cell_type": "code",
   "execution_count": 79,
   "id": "e6caabc7-3c54-4c8d-bb9d-87c1b161ff76",
   "metadata": {},
   "outputs": [
    {
     "name": "stderr",
     "output_type": "stream",
     "text": [
      "/tmp/ipykernel_538/822059129.py:1: FutureWarning: The default value of numeric_only in DataFrame.corr is deprecated. In a future version, it will default to False. Select only valid columns or specify the value of numeric_only to silence this warning.\n",
      "  correlation_matrix = customers_df.corr()\n"
     ]
    },
    {
     "name": "stdout",
     "output_type": "stream",
     "text": [
      "                        Quantity  UnitPrice  NewCustomerID  \\\n",
      "Quantity                1.000000  -0.001235      -0.015367   \n",
      "UnitPrice              -0.001235   1.000000       0.014522   \n",
      "NewCustomerID          -0.015367   0.014522       1.000000   \n",
      "Country_United Kingdom -0.014182  -0.002657       0.122377   \n",
      "Country_Germany         0.001725  -0.000889      -0.062376   \n",
      "Country_France          0.001951   0.000547      -0.056285   \n",
      "Country_EIRE            0.004461   0.001665      -0.036812   \n",
      "Country_Spain           0.000326   0.000267      -0.031873   \n",
      "Country_Others          0.016524   0.003215      -0.069770   \n",
      "Weekday                -0.000904  -0.007310      -0.115955   \n",
      "Hour                   -0.011268   0.001268       0.198264   \n",
      "\n",
      "                        Country_United Kingdom  Country_Germany  \\\n",
      "Quantity                             -0.014182         0.001725   \n",
      "UnitPrice                            -0.002657        -0.000889   \n",
      "NewCustomerID                         0.122377        -0.062376   \n",
      "Country_United Kingdom                1.000000        -0.436245   \n",
      "Country_Germany                      -0.436245         1.000000   \n",
      "Country_France                       -0.413773        -0.016915   \n",
      "Country_EIRE                         -0.404814        -0.016549   \n",
      "Country_Spain                        -0.223862        -0.009152   \n",
      "Country_Others                       -0.599387        -0.024503   \n",
      "Weekday                               0.008462         0.004094   \n",
      "Hour                                  0.123188        -0.052859   \n",
      "\n",
      "                        Country_France  Country_EIRE  Country_Spain  \\\n",
      "Quantity                      0.001951      0.004461       0.000326   \n",
      "UnitPrice                     0.000547      0.001665       0.000267   \n",
      "NewCustomerID                -0.056285     -0.036812      -0.031873   \n",
      "Country_United Kingdom       -0.413773     -0.404814      -0.223862   \n",
      "Country_Germany              -0.016915     -0.016549      -0.009152   \n",
      "Country_France                1.000000     -0.015696      -0.008680   \n",
      "Country_EIRE                 -0.015696      1.000000      -0.008492   \n",
      "Country_Spain                -0.008680     -0.008492       1.000000   \n",
      "Country_Others               -0.023241     -0.022738      -0.012574   \n",
      "Weekday                       0.000622     -0.011645       0.005200   \n",
      "Hour                         -0.051216     -0.052293      -0.006217   \n",
      "\n",
      "                        Country_Others   Weekday      Hour  \n",
      "Quantity                      0.016524 -0.000904 -0.011268  \n",
      "UnitPrice                     0.003215 -0.007310  0.001268  \n",
      "NewCustomerID                -0.069770 -0.115955  0.198264  \n",
      "Country_United Kingdom       -0.599387  0.008462  0.123188  \n",
      "Country_Germany              -0.024503  0.004094 -0.052859  \n",
      "Country_France               -0.023241  0.000622 -0.051216  \n",
      "Country_EIRE                 -0.022738 -0.011645 -0.052293  \n",
      "Country_Spain                -0.012574  0.005200 -0.006217  \n",
      "Country_Others                1.000000 -0.010798 -0.080857  \n",
      "Weekday                      -0.010798  1.000000 -0.033176  \n",
      "Hour                         -0.080857 -0.033176  1.000000  \n"
     ]
    }
   ],
   "source": [
    "correlation_matrix = customers_df.corr()\n",
    "print(correlation_matrix)"
   ]
  },
  {
   "cell_type": "markdown",
   "id": "b6c47b23-f404-482d-a836-4552a0748be2",
   "metadata": {},
   "source": [
    "# Predictions - Clustering"
   ]
  },
  {
   "cell_type": "code",
   "execution_count": 81,
   "id": "0e3357b6-9fab-4f68-a868-7f91a99bb6ac",
   "metadata": {},
   "outputs": [],
   "source": [
    "# Step 1: Data standardization.\n",
    "\n",
    "# Before applying any clustering technique, it is important to standardize the data so that all features have the same scale. This is especially important when variables have different units or magnitudes. We will use Z-standardization, which transforms the variables so that they have a mean of 0 and a standard deviation of 1.\n",
    "\n",
    "# Select only the columns relevant for clustering.\n",
    "columns_for_clustering = ['Quantity', 'UnitPrice', 'NewCustomerID', 'Country_United Kingdom', 'Country_Germany', \n",
    "                           'Country_France', 'Country_EIRE', 'Country_Spain', 'Country_Others', 'Weekday', 'Hour']\n",
    "\n",
    "# Standardize data\n",
    "scaler1 = StandardScaler()\n",
    "scaled_data = scaler1.fit_transform(customers_df[columns_for_clustering])"
   ]
  },
  {
   "cell_type": "code",
   "execution_count": 85,
   "id": "a62112c9-2d09-4b61-94cf-094f321bea47",
   "metadata": {},
   "outputs": [
    {
     "name": "stderr",
     "output_type": "stream",
     "text": [
      "/opt/conda/envs/anaconda-panel-2023.05-py310/lib/python3.11/site-packages/sklearn/cluster/_kmeans.py:870: FutureWarning: The default value of `n_init` will change from 10 to 'auto' in 1.4. Set the value of `n_init` explicitly to suppress the warning\n",
      "  warnings.warn(\n",
      "/opt/conda/envs/anaconda-panel-2023.05-py310/lib/python3.11/site-packages/sklearn/cluster/_kmeans.py:870: FutureWarning: The default value of `n_init` will change from 10 to 'auto' in 1.4. Set the value of `n_init` explicitly to suppress the warning\n",
      "  warnings.warn(\n",
      "/opt/conda/envs/anaconda-panel-2023.05-py310/lib/python3.11/site-packages/sklearn/cluster/_kmeans.py:870: FutureWarning: The default value of `n_init` will change from 10 to 'auto' in 1.4. Set the value of `n_init` explicitly to suppress the warning\n",
      "  warnings.warn(\n",
      "/opt/conda/envs/anaconda-panel-2023.05-py310/lib/python3.11/site-packages/sklearn/cluster/_kmeans.py:870: FutureWarning: The default value of `n_init` will change from 10 to 'auto' in 1.4. Set the value of `n_init` explicitly to suppress the warning\n",
      "  warnings.warn(\n",
      "/opt/conda/envs/anaconda-panel-2023.05-py310/lib/python3.11/site-packages/sklearn/cluster/_kmeans.py:870: FutureWarning: The default value of `n_init` will change from 10 to 'auto' in 1.4. Set the value of `n_init` explicitly to suppress the warning\n",
      "  warnings.warn(\n",
      "/opt/conda/envs/anaconda-panel-2023.05-py310/lib/python3.11/site-packages/sklearn/cluster/_kmeans.py:870: FutureWarning: The default value of `n_init` will change from 10 to 'auto' in 1.4. Set the value of `n_init` explicitly to suppress the warning\n",
      "  warnings.warn(\n",
      "/opt/conda/envs/anaconda-panel-2023.05-py310/lib/python3.11/site-packages/sklearn/cluster/_kmeans.py:870: FutureWarning: The default value of `n_init` will change from 10 to 'auto' in 1.4. Set the value of `n_init` explicitly to suppress the warning\n",
      "  warnings.warn(\n",
      "/opt/conda/envs/anaconda-panel-2023.05-py310/lib/python3.11/site-packages/sklearn/cluster/_kmeans.py:870: FutureWarning: The default value of `n_init` will change from 10 to 'auto' in 1.4. Set the value of `n_init` explicitly to suppress the warning\n",
      "  warnings.warn(\n",
      "/opt/conda/envs/anaconda-panel-2023.05-py310/lib/python3.11/site-packages/sklearn/cluster/_kmeans.py:870: FutureWarning: The default value of `n_init` will change from 10 to 'auto' in 1.4. Set the value of `n_init` explicitly to suppress the warning\n",
      "  warnings.warn(\n",
      "/opt/conda/envs/anaconda-panel-2023.05-py310/lib/python3.11/site-packages/sklearn/cluster/_kmeans.py:870: FutureWarning: The default value of `n_init` will change from 10 to 'auto' in 1.4. Set the value of `n_init` explicitly to suppress the warning\n",
      "  warnings.warn(\n"
     ]
    },
    {
     "data": {
      "image/png": "[encoded data removed]",
      "text/plain": [
       "<Figure size 800x600 with 1 Axes>"
      ]
     },
     "metadata": {},
     "output_type": "display_data"
    }
   ],
   "source": [
    "# Step 2: Choosing the number of clusters.\n",
    "\n",
    "# Before applying a clustering algorithm, we need to determine how many clusters we want in our model. We can use techniques such as the Elbow Method or the Silhouette Method to make this decision. In this case, we will use the Elbow Method.\n",
    "\n",
    "\n",
    "# Find the optimal number of clusters using the Elbow Method.\n",
    "inertia_values = []\n",
    "for i in range(1, 11):\n",
    "    kmeans = KMeans(n_clusters=i, random_state=0)\n",
    "    kmeans.fit(scaled_data)\n",
    "    inertia_values.append(kmeans.inertia_)\n",
    "\n",
    "# Plot the elbow method\n",
    "plt.figure(figsize=(8, 6))\n",
    "plt.plot(range(1, 11), inertia_values, marker='o')\n",
    "plt.xlabel('Number of Clusters')\n",
    "plt.ylabel('Inertia')\n",
    "plt.title('Elbow Method to Determine Number of Clusters')\n",
    "plt.show()"
   ]
  },
  {
   "cell_type": "code",
   "execution_count": 87,
   "id": "554283be-1a09-40d8-bf81-87e0560038b7",
   "metadata": {},
   "outputs": [
    {
     "name": "stderr",
     "output_type": "stream",
     "text": [
      "/opt/conda/envs/anaconda-panel-2023.05-py310/lib/python3.11/site-packages/sklearn/cluster/_kmeans.py:870: FutureWarning: The default value of `n_init` will change from 10 to 'auto' in 1.4. Set the value of `n_init` explicitly to suppress the warning\n",
      "  warnings.warn(\n",
      "/opt/conda/envs/anaconda-panel-2023.05-py310/lib/python3.11/site-packages/sklearn/cluster/_kmeans.py:870: FutureWarning: The default value of `n_init` will change from 10 to 'auto' in 1.4. Set the value of `n_init` explicitly to suppress the warning\n",
      "  warnings.warn(\n"
     ]
    },
    {
     "data": {
      "text/html": [
       "<div>\n",
       "<style scoped>\n",
       "    .dataframe tbody tr th:only-of-type {\n",
       "        vertical-align: middle;\n",
       "    }\n",
       "\n",
       "    .dataframe tbody tr th {\n",
       "        vertical-align: top;\n",
       "    }\n",
       "\n",
       "    .dataframe thead th {\n",
       "        text-align: right;\n",
       "    }\n",
       "</style>\n",
       "<table border=\"1\" class=\"dataframe\">\n",
       "  <thead>\n",
       "    <tr style=\"text-align: right;\">\n",
       "      <th></th>\n",
       "      <th>InvoiceNo</th>\n",
       "      <th>StockCode</th>\n",
       "      <th>Description</th>\n",
       "      <th>Quantity</th>\n",
       "      <th>InvoiceDate</th>\n",
       "      <th>UnitPrice</th>\n",
       "      <th>Country</th>\n",
       "      <th>NewCustomerID</th>\n",
       "      <th>Country_United Kingdom</th>\n",
       "      <th>Country_Germany</th>\n",
       "      <th>Country_France</th>\n",
       "      <th>Country_EIRE</th>\n",
       "      <th>Country_Spain</th>\n",
       "      <th>Country_Others</th>\n",
       "      <th>Weekday</th>\n",
       "      <th>Hour</th>\n",
       "      <th>Cluster_4</th>\n",
       "      <th>Cluster_6</th>\n",
       "    </tr>\n",
       "  </thead>\n",
       "  <tbody>\n",
       "    <tr>\n",
       "      <th>0</th>\n",
       "      <td>536365</td>\n",
       "      <td>85123A</td>\n",
       "      <td>WHITE HANGING HEART T-LIGHT HOLDER</td>\n",
       "      <td>-0.016289</td>\n",
       "      <td>2010-12-01 08:26:00</td>\n",
       "      <td>-0.021301</td>\n",
       "      <td>United Kingdom</td>\n",
       "      <td>17850.0</td>\n",
       "      <td>1</td>\n",
       "      <td>0</td>\n",
       "      <td>0</td>\n",
       "      <td>0</td>\n",
       "      <td>0</td>\n",
       "      <td>0</td>\n",
       "      <td>2</td>\n",
       "      <td>8</td>\n",
       "      <td>0</td>\n",
       "      <td>1</td>\n",
       "    </tr>\n",
       "    <tr>\n",
       "      <th>1</th>\n",
       "      <td>536365</td>\n",
       "      <td>71053</td>\n",
       "      <td>WHITE METAL LANTERN</td>\n",
       "      <td>-0.016289</td>\n",
       "      <td>2010-12-01 08:26:00</td>\n",
       "      <td>-0.012620</td>\n",
       "      <td>United Kingdom</td>\n",
       "      <td>17850.0</td>\n",
       "      <td>1</td>\n",
       "      <td>0</td>\n",
       "      <td>0</td>\n",
       "      <td>0</td>\n",
       "      <td>0</td>\n",
       "      <td>0</td>\n",
       "      <td>2</td>\n",
       "      <td>8</td>\n",
       "      <td>0</td>\n",
       "      <td>1</td>\n",
       "    </tr>\n",
       "    <tr>\n",
       "      <th>2</th>\n",
       "      <td>536365</td>\n",
       "      <td>84406B</td>\n",
       "      <td>CREAM CUPID HEARTS COAT HANGER</td>\n",
       "      <td>-0.007118</td>\n",
       "      <td>2010-12-01 08:26:00</td>\n",
       "      <td>-0.019234</td>\n",
       "      <td>United Kingdom</td>\n",
       "      <td>17850.0</td>\n",
       "      <td>1</td>\n",
       "      <td>0</td>\n",
       "      <td>0</td>\n",
       "      <td>0</td>\n",
       "      <td>0</td>\n",
       "      <td>0</td>\n",
       "      <td>2</td>\n",
       "      <td>8</td>\n",
       "      <td>0</td>\n",
       "      <td>1</td>\n",
       "    </tr>\n",
       "    <tr>\n",
       "      <th>3</th>\n",
       "      <td>536365</td>\n",
       "      <td>84029G</td>\n",
       "      <td>KNITTED UNION FLAG HOT WATER BOTTLE</td>\n",
       "      <td>-0.016289</td>\n",
       "      <td>2010-12-01 08:26:00</td>\n",
       "      <td>-0.012620</td>\n",
       "      <td>United Kingdom</td>\n",
       "      <td>17850.0</td>\n",
       "      <td>1</td>\n",
       "      <td>0</td>\n",
       "      <td>0</td>\n",
       "      <td>0</td>\n",
       "      <td>0</td>\n",
       "      <td>0</td>\n",
       "      <td>2</td>\n",
       "      <td>8</td>\n",
       "      <td>0</td>\n",
       "      <td>1</td>\n",
       "    </tr>\n",
       "    <tr>\n",
       "      <th>4</th>\n",
       "      <td>536365</td>\n",
       "      <td>84029E</td>\n",
       "      <td>RED WOOLLY HOTTIE WHITE HEART.</td>\n",
       "      <td>-0.016289</td>\n",
       "      <td>2010-12-01 08:26:00</td>\n",
       "      <td>-0.012620</td>\n",
       "      <td>United Kingdom</td>\n",
       "      <td>17850.0</td>\n",
       "      <td>1</td>\n",
       "      <td>0</td>\n",
       "      <td>0</td>\n",
       "      <td>0</td>\n",
       "      <td>0</td>\n",
       "      <td>0</td>\n",
       "      <td>2</td>\n",
       "      <td>8</td>\n",
       "      <td>0</td>\n",
       "      <td>1</td>\n",
       "    </tr>\n",
       "    <tr>\n",
       "      <th>...</th>\n",
       "      <td>...</td>\n",
       "      <td>...</td>\n",
       "      <td>...</td>\n",
       "      <td>...</td>\n",
       "      <td>...</td>\n",
       "      <td>...</td>\n",
       "      <td>...</td>\n",
       "      <td>...</td>\n",
       "      <td>...</td>\n",
       "      <td>...</td>\n",
       "      <td>...</td>\n",
       "      <td>...</td>\n",
       "      <td>...</td>\n",
       "      <td>...</td>\n",
       "      <td>...</td>\n",
       "      <td>...</td>\n",
       "      <td>...</td>\n",
       "      <td>...</td>\n",
       "    </tr>\n",
       "    <tr>\n",
       "      <th>541904</th>\n",
       "      <td>581587</td>\n",
       "      <td>22613</td>\n",
       "      <td>PACK OF 20 SPACEBOY NAPKINS</td>\n",
       "      <td>0.011224</td>\n",
       "      <td>2011-12-09 12:50:00</td>\n",
       "      <td>-0.038871</td>\n",
       "      <td>France</td>\n",
       "      <td>12680.0</td>\n",
       "      <td>0</td>\n",
       "      <td>0</td>\n",
       "      <td>1</td>\n",
       "      <td>0</td>\n",
       "      <td>0</td>\n",
       "      <td>0</td>\n",
       "      <td>4</td>\n",
       "      <td>12</td>\n",
       "      <td>2</td>\n",
       "      <td>4</td>\n",
       "    </tr>\n",
       "    <tr>\n",
       "      <th>541905</th>\n",
       "      <td>581587</td>\n",
       "      <td>22899</td>\n",
       "      <td>CHILDREN'S APRON DOLLY GIRL</td>\n",
       "      <td>-0.016289</td>\n",
       "      <td>2011-12-09 12:50:00</td>\n",
       "      <td>-0.025952</td>\n",
       "      <td>France</td>\n",
       "      <td>12680.0</td>\n",
       "      <td>0</td>\n",
       "      <td>0</td>\n",
       "      <td>1</td>\n",
       "      <td>0</td>\n",
       "      <td>0</td>\n",
       "      <td>0</td>\n",
       "      <td>4</td>\n",
       "      <td>12</td>\n",
       "      <td>2</td>\n",
       "      <td>4</td>\n",
       "    </tr>\n",
       "    <tr>\n",
       "      <th>541906</th>\n",
       "      <td>581587</td>\n",
       "      <td>23254</td>\n",
       "      <td>CHILDRENS CUTLERY DOLLY GIRL</td>\n",
       "      <td>-0.025460</td>\n",
       "      <td>2011-12-09 12:50:00</td>\n",
       "      <td>-0.004766</td>\n",
       "      <td>France</td>\n",
       "      <td>12680.0</td>\n",
       "      <td>0</td>\n",
       "      <td>0</td>\n",
       "      <td>1</td>\n",
       "      <td>0</td>\n",
       "      <td>0</td>\n",
       "      <td>0</td>\n",
       "      <td>4</td>\n",
       "      <td>12</td>\n",
       "      <td>2</td>\n",
       "      <td>4</td>\n",
       "    </tr>\n",
       "    <tr>\n",
       "      <th>541907</th>\n",
       "      <td>581587</td>\n",
       "      <td>23255</td>\n",
       "      <td>CHILDRENS CUTLERY CIRCUS PARADE</td>\n",
       "      <td>-0.025460</td>\n",
       "      <td>2011-12-09 12:50:00</td>\n",
       "      <td>-0.004766</td>\n",
       "      <td>France</td>\n",
       "      <td>12680.0</td>\n",
       "      <td>0</td>\n",
       "      <td>0</td>\n",
       "      <td>1</td>\n",
       "      <td>0</td>\n",
       "      <td>0</td>\n",
       "      <td>0</td>\n",
       "      <td>4</td>\n",
       "      <td>12</td>\n",
       "      <td>2</td>\n",
       "      <td>4</td>\n",
       "    </tr>\n",
       "    <tr>\n",
       "      <th>541908</th>\n",
       "      <td>581587</td>\n",
       "      <td>22138</td>\n",
       "      <td>BAKING SET 9 PIECE RETROSPOT</td>\n",
       "      <td>-0.030045</td>\n",
       "      <td>2011-12-09 12:50:00</td>\n",
       "      <td>0.003502</td>\n",
       "      <td>France</td>\n",
       "      <td>12680.0</td>\n",
       "      <td>0</td>\n",
       "      <td>0</td>\n",
       "      <td>1</td>\n",
       "      <td>0</td>\n",
       "      <td>0</td>\n",
       "      <td>0</td>\n",
       "      <td>4</td>\n",
       "      <td>12</td>\n",
       "      <td>2</td>\n",
       "      <td>4</td>\n",
       "    </tr>\n",
       "  </tbody>\n",
       "</table>\n",
       "<p>541909 rows × 18 columns</p>\n",
       "</div>"
      ],
      "text/plain": [
       "       InvoiceNo StockCode                          Description  Quantity  \\\n",
       "0         536365    85123A   WHITE HANGING HEART T-LIGHT HOLDER -0.016289   \n",
       "1         536365     71053                  WHITE METAL LANTERN -0.016289   \n",
       "2         536365    84406B       CREAM CUPID HEARTS COAT HANGER -0.007118   \n",
       "3         536365    84029G  KNITTED UNION FLAG HOT WATER BOTTLE -0.016289   \n",
       "4         536365    84029E       RED WOOLLY HOTTIE WHITE HEART. -0.016289   \n",
       "...          ...       ...                                  ...       ...   \n",
       "541904    581587     22613          PACK OF 20 SPACEBOY NAPKINS  0.011224   \n",
       "541905    581587     22899         CHILDREN'S APRON DOLLY GIRL  -0.016289   \n",
       "541906    581587     23254        CHILDRENS CUTLERY DOLLY GIRL  -0.025460   \n",
       "541907    581587     23255      CHILDRENS CUTLERY CIRCUS PARADE -0.025460   \n",
       "541908    581587     22138        BAKING SET 9 PIECE RETROSPOT  -0.030045   \n",
       "\n",
       "               InvoiceDate  UnitPrice         Country  NewCustomerID  \\\n",
       "0      2010-12-01 08:26:00  -0.021301  United Kingdom        17850.0   \n",
       "1      2010-12-01 08:26:00  -0.012620  United Kingdom        17850.0   \n",
       "2      2010-12-01 08:26:00  -0.019234  United Kingdom        17850.0   \n",
       "3      2010-12-01 08:26:00  -0.012620  United Kingdom        17850.0   \n",
       "4      2010-12-01 08:26:00  -0.012620  United Kingdom        17850.0   \n",
       "...                    ...        ...             ...            ...   \n",
       "541904 2011-12-09 12:50:00  -0.038871          France        12680.0   \n",
       "541905 2011-12-09 12:50:00  -0.025952          France        12680.0   \n",
       "541906 2011-12-09 12:50:00  -0.004766          France        12680.0   \n",
       "541907 2011-12-09 12:50:00  -0.004766          France        12680.0   \n",
       "541908 2011-12-09 12:50:00   0.003502          France        12680.0   \n",
       "\n",
       "        Country_United Kingdom  Country_Germany  Country_France  Country_EIRE  \\\n",
       "0                            1                0               0             0   \n",
       "1                            1                0               0             0   \n",
       "2                            1                0               0             0   \n",
       "3                            1                0               0             0   \n",
       "4                            1                0               0             0   \n",
       "...                        ...              ...             ...           ...   \n",
       "541904                       0                0               1             0   \n",
       "541905                       0                0               1             0   \n",
       "541906                       0                0               1             0   \n",
       "541907                       0                0               1             0   \n",
       "541908                       0                0               1             0   \n",
       "\n",
       "        Country_Spain  Country_Others  Weekday  Hour  Cluster_4  Cluster_6  \n",
       "0                   0               0        2     8          0          1  \n",
       "1                   0               0        2     8          0          1  \n",
       "2                   0               0        2     8          0          1  \n",
       "3                   0               0        2     8          0          1  \n",
       "4                   0               0        2     8          0          1  \n",
       "...               ...             ...      ...   ...        ...        ...  \n",
       "541904              0               0        4    12          2          4  \n",
       "541905              0               0        4    12          2          4  \n",
       "541906              0               0        4    12          2          4  \n",
       "541907              0               0        4    12          2          4  \n",
       "541908              0               0        4    12          2          4  \n",
       "\n",
       "[541909 rows x 18 columns]"
      ]
     },
     "execution_count": 87,
     "metadata": {},
     "output_type": "execute_result"
    }
   ],
   "source": [
    "# Step 3: Application of the clustering algorithm\n",
    "\n",
    "# Choose the optimal number of clusters for 4 clusters\n",
    "optimal_n_clusters_4 = 4\n",
    "\n",
    "# Apply the clustering algorithm for 4 clusters\n",
    "kmeans_4 = KMeans(n_clusters=optimal_n_clusters_4, random_state=0)\n",
    "clusters_4 = kmeans_4.fit_predict(scaled_data)\n",
    "\n",
    "# Add the clustering results to the DataFrame for 4 clusters\n",
    "customers_df['Cluster_4'] = clusters_4\n",
    "\n",
    "# Choose the optimal number of clusters for 6 clusters\n",
    "optimal_n_clusters_6 = 6\n",
    "\n",
    "# Apply the clustering algorithm for 6 clusters\n",
    "kmeans_6 = KMeans(n_clusters=optimal_n_clusters_6, random_state=0)\n",
    "clusters_6 = kmeans_6.fit_predict(scaled_data)\n",
    "\n",
    "# Add the clustering results to the DataFrame for 6 clusters\n",
    "customers_df['Cluster_6'] = clusters_6\n",
    "\n",
    "customers_df"
   ]
  },
  {
   "cell_type": "markdown",
   "id": "71eb1452-de93-4117-ade8-6fd70bd4c0e7",
   "metadata": {},
   "source": [
    "# Conclutions"
   ]
  },
  {
   "cell_type": "code",
   "execution_count": 89,
   "id": "cec642e5-7193-4bb5-bcd4-a8bcc965399c",
   "metadata": {},
   "outputs": [
    {
     "data": {
      "text/plain": [
       "0    506205\n",
       "3     17652\n",
       "1      9495\n",
       "2      8557\n",
       "Name: Cluster_4, dtype: int64"
      ]
     },
     "execution_count": 89,
     "metadata": {},
     "output_type": "execute_result"
    }
   ],
   "source": [
    "# Interpretation of the Results for 4 Clusters:\n",
    "# First, let's look at how to interpret the clusters in terms of customer behavior.\n",
    "\n",
    "# Number of customers in each cluster\n",
    "customers_df['Cluster_4'].value_counts()"
   ]
  },
  {
   "cell_type": "code",
   "execution_count": 93,
   "id": "f4ca999f-9e89-4a4a-8c03-ea8a7663c915",
   "metadata": {},
   "outputs": [],
   "source": [
    "# Let's examine the average characteristics of each cluster, especially the columns that were standardized (Quantity and UnitPrice). This will give an idea of trends in buying behavior.\n",
    "\n",
    "cluster_means = customers_df.groupby('Cluster_4')[['Quantity', 'UnitPrice']].mean()"
   ]
  },
  {
   "cell_type": "code",
   "execution_count": 95,
   "id": "c07b4458-d836-4ce7-ae8f-69a2c214826e",
   "metadata": {},
   "outputs": [],
   "source": [
    "# We can also explore the distribution of other categorical features (such as 'Weekday', 'Hour' or 'Country') in each cluster.\n",
    "\n",
    "weekday_distribution = customers_df.groupby(['Cluster_4', 'Weekday']).size().unstack().fillna(0)\n",
    "hour_distribution = customers_df.groupby(['Cluster_4', 'Hour']).size().unstack().fillna(0)\n",
    "country_distribution = customers_df.groupby(['Cluster_4', 'Country']).size().unstack().fillna(0)"
   ]
  },
  {
   "cell_type": "markdown",
   "id": "6aa02d40-243d-4c54-8cfb-ab63dcf67f93",
   "metadata": {},
   "source": [
    "Interpretation of the Results for 6 Clusters"
   ]
  },
  {
   "cell_type": "code",
   "execution_count": 97,
   "id": "513b5e89-b550-4c30-bfdb-f271dd303913",
   "metadata": {},
   "outputs": [],
   "source": [
    "# We can follow the same steps to interpret the results for all 6 clusters. \n",
    "\n",
    "# Number of customers in each cluster\n",
    "customers_df['Cluster_6'].value_counts()\n",
    "\n",
    "# Average characteristics of each cluster\n",
    "cluster_means_6 = customers_df.groupby('Cluster_6')[['Quantity', 'UnitPrice']].mean()\n",
    "\n",
    "# Categorical distributions\n",
    "weekday_distribution_6 = customers_df.groupby(['Cluster_6', 'Weekday']).size().unstack().fillna(0)\n",
    "hour_distribution_6 = customers_df.groupby(['Cluster_6', 'Hour']).size().unstack().fillna(0)\n",
    "country_distribution_6 = customers_df.groupby(['Cluster_6', 'Country']).size().unstack().fillna(0)"
   ]
  },
  {
   "cell_type": "code",
   "execution_count": 107,
   "id": "6fadc88f-14a0-4928-a576-e1ddceda42cd",
   "metadata": {},
   "outputs": [
    {
     "data": {
      "text/html": [
       "<div>\n",
       "<style scoped>\n",
       "    .dataframe tbody tr th:only-of-type {\n",
       "        vertical-align: middle;\n",
       "    }\n",
       "\n",
       "    .dataframe tbody tr th {\n",
       "        vertical-align: top;\n",
       "    }\n",
       "\n",
       "    .dataframe thead th {\n",
       "        text-align: right;\n",
       "    }\n",
       "</style>\n",
       "<table border=\"1\" class=\"dataframe\">\n",
       "  <thead>\n",
       "    <tr style=\"text-align: right;\">\n",
       "      <th></th>\n",
       "      <th>Quantity</th>\n",
       "      <th>UnitPrice</th>\n",
       "    </tr>\n",
       "    <tr>\n",
       "      <th>Cluster_6</th>\n",
       "      <th></th>\n",
       "      <th></th>\n",
       "    </tr>\n",
       "  </thead>\n",
       "  <tbody>\n",
       "    <tr>\n",
       "      <th>0</th>\n",
       "      <td>0.130359</td>\n",
       "      <td>0.017516</td>\n",
       "    </tr>\n",
       "    <tr>\n",
       "      <th>1</th>\n",
       "      <td>-0.005778</td>\n",
       "      <td>-0.000813</td>\n",
       "    </tr>\n",
       "    <tr>\n",
       "      <th>2</th>\n",
       "      <td>0.012918</td>\n",
       "      <td>-0.006658</td>\n",
       "    </tr>\n",
       "    <tr>\n",
       "      <th>3</th>\n",
       "      <td>0.004758</td>\n",
       "      <td>0.003890</td>\n",
       "    </tr>\n",
       "    <tr>\n",
       "      <th>4</th>\n",
       "      <td>0.015402</td>\n",
       "      <td>0.004317</td>\n",
       "    </tr>\n",
       "    <tr>\n",
       "      <th>5</th>\n",
       "      <td>0.036000</td>\n",
       "      <td>0.013435</td>\n",
       "    </tr>\n",
       "  </tbody>\n",
       "</table>\n",
       "</div>"
      ],
      "text/plain": [
       "           Quantity  UnitPrice\n",
       "Cluster_6                     \n",
       "0          0.130359   0.017516\n",
       "1         -0.005778  -0.000813\n",
       "2          0.012918  -0.006658\n",
       "3          0.004758   0.003890\n",
       "4          0.015402   0.004317\n",
       "5          0.036000   0.013435"
      ]
     },
     "execution_count": 107,
     "metadata": {},
     "output_type": "execute_result"
    }
   ],
   "source": [
    "cluster_means_6"
   ]
  },
  {
   "cell_type": "code",
   "execution_count": 109,
   "id": "f78dde97-7906-4e33-ae99-45d0f6d27a79",
   "metadata": {},
   "outputs": [
    {
     "data": {
      "text/html": [
       "<div>\n",
       "<style scoped>\n",
       "    .dataframe tbody tr th:only-of-type {\n",
       "        vertical-align: middle;\n",
       "    }\n",
       "\n",
       "    .dataframe tbody tr th {\n",
       "        vertical-align: top;\n",
       "    }\n",
       "\n",
       "    .dataframe thead th {\n",
       "        text-align: right;\n",
       "    }\n",
       "</style>\n",
       "<table border=\"1\" class=\"dataframe\">\n",
       "  <thead>\n",
       "    <tr style=\"text-align: right;\">\n",
       "      <th></th>\n",
       "      <th>Quantity</th>\n",
       "      <th>UnitPrice</th>\n",
       "    </tr>\n",
       "    <tr>\n",
       "      <th>Cluster_4</th>\n",
       "      <th></th>\n",
       "      <th></th>\n",
       "    </tr>\n",
       "  </thead>\n",
       "  <tbody>\n",
       "    <tr>\n",
       "      <th>0</th>\n",
       "      <td>-0.005048</td>\n",
       "      <td>-0.000559</td>\n",
       "    </tr>\n",
       "    <tr>\n",
       "      <th>1</th>\n",
       "      <td>0.012918</td>\n",
       "      <td>-0.006658</td>\n",
       "    </tr>\n",
       "    <tr>\n",
       "      <th>2</th>\n",
       "      <td>0.015402</td>\n",
       "      <td>0.004317</td>\n",
       "    </tr>\n",
       "    <tr>\n",
       "      <th>3</th>\n",
       "      <td>0.130359</td>\n",
       "      <td>0.017516</td>\n",
       "    </tr>\n",
       "  </tbody>\n",
       "</table>\n",
       "</div>"
      ],
      "text/plain": [
       "           Quantity  UnitPrice\n",
       "Cluster_4                     \n",
       "0         -0.005048  -0.000559\n",
       "1          0.012918  -0.006658\n",
       "2          0.015402   0.004317\n",
       "3          0.130359   0.017516"
      ]
     },
     "execution_count": 109,
     "metadata": {},
     "output_type": "execute_result"
    }
   ],
   "source": [
    "cluster_means"
   ]
  },
  {
   "cell_type": "markdown",
   "id": "68c88bb6-1a23-4907-a750-dba3218de0e1",
   "metadata": {},
   "source": [
    "For 6 clusters:\n",
    "-> What characteristics define each cluster?\n",
    "\n",
    "Cluster 0: Slightly above average purchases in terms of quantity, low prices.\n",
    "Cluster 1: Below average purchases in terms of quantity and low prices.\n",
    "Cluster 2: Purchases above average in terms of quantity, low prices.\n",
    "Cluster 3: Purchases slightly above average in terms of quantity and low prices.\n",
    "Cluster 4: Purchases above average in terms of quantity and low prices.\n",
    "Cluster 5: Purchases significantly above average in terms of quantity and low prices.\n",
    "\n",
    "-> Are there clusters with large purchases and others with small purchases?\n",
    "\n",
    "Yes, Cluster 5 has significantly large purchases in terms of quantity compared to the other clusters.\n",
    "\n",
    "-> Is there a pattern of recurring behavior?\n",
    "\n",
    "There is no obvious recurring behavior pattern based on the Quantity and UnitPrice characteristics in these clusters."
   ]
  },
  {
   "cell_type": "markdown",
   "id": "2f0d6417-46ad-4fc4-9871-4c572b28e188",
   "metadata": {},
   "source": [
    "For 4 clusters:\n",
    "    \n",
    "->What characteristics define each cluster?\n",
    "\n",
    "Cluster 0: Below average purchases in terms of quantity and low prices.\n",
    "Cluster 1: Purchases above average in terms of quantity, low prices.\n",
    "Cluster 2: Purchases significantly above average in terms of quantity and low prices.\n",
    "Cluster 3: Slightly above average purchases in terms of quantity, low prices.\n",
    "\n",
    "-> Are there clusters with large purchases and others with small purchases?\n",
    "\n",
    "Yes, Cluster 2 has significantly large purchases in terms of quantity compared to the other clusters.\n",
    "\n",
    "-> Is there a pattern of recurring behavior?\n",
    "\n",
    "There is no obvious recurring behavior pattern based on the Quantity and UnitPrice characteristics in these clusters."
   ]
  },
  {
   "cell_type": "code",
   "execution_count": 117,
   "id": "9cc03b00-6359-4f7f-a311-98b4d10f33b9",
   "metadata": {},
   "outputs": [
    {
     "name": "stderr",
     "output_type": "stream",
     "text": [
      "/opt/conda/envs/anaconda-panel-2023.05-py310/lib/python3.11/site-packages/sklearn/cluster/_kmeans.py:870: FutureWarning: The default value of `n_init` will change from 10 to 'auto' in 1.4. Set the value of `n_init` explicitly to suppress the warning\n",
      "  warnings.warn(\n"
     ]
    },
    {
     "name": "stdout",
     "output_type": "stream",
     "text": [
      "Inertia for 4 clusters: 3912828.504934642\n"
     ]
    },
    {
     "name": "stderr",
     "output_type": "stream",
     "text": [
      "/opt/conda/envs/anaconda-panel-2023.05-py310/lib/python3.11/site-packages/sklearn/cluster/_kmeans.py:870: FutureWarning: The default value of `n_init` will change from 10 to 'auto' in 1.4. Set the value of `n_init` explicitly to suppress the warning\n",
      "  warnings.warn(\n"
     ]
    },
    {
     "name": "stdout",
     "output_type": "stream",
     "text": [
      "Inertia for 6 clusters: 2692353.0963601777\n"
     ]
    }
   ],
   "source": [
    "# Evaluating the quality of the clusters\n",
    "# For 4 clusters\n",
    "kmeans_4 = KMeans(n_clusters=4, random_state=0)\n",
    "clusters_4 = kmeans_4.fit_predict(scaled_data)\n",
    "inertia_4 = kmeans_4.inertia_\n",
    "print(f'Inertia for 4 clusters: {inertia_4}')\n",
    "\n",
    "# For 6 clusters\n",
    "kmeans_6 = KMeans(n_clusters=6, random_state=0)\n",
    "clusters_6 = kmeans_6.fit_predict(scaled_data)\n",
    "inertia_6 = kmeans_6.inertia_\n",
    "print(f'Inertia for 6 clusters: {inertia_6}')\n"
   ]
  },
  {
   "cell_type": "markdown",
   "id": "44b5d44c-c3cf-4871-a4fb-cf7253b8c245",
   "metadata": {},
   "source": [
    "For 4 Clusters: Inertia is approximately 3,912,828.5.\n",
    "\n",
    "For 6 Clusters: The inertia is approximately 2,692,353.1.\n",
    "\n",
    "Comparing these values, we observe that the inertia is lower when 6 clusters are used instead of 4. This indicates that with 6 clusters, the points are closer to their respective centroids, suggesting a more compact and coherent clustering.\n",
    "\n",
    "Therefore, according to the inertia metric, the 6-cluster configuration appears to provide better clustering of the data compared to the 4-cluster configuration."
   ]
  },
  {
   "cell_type": "code",
   "execution_count": null,
   "id": "e0a8c5bc-df3f-404a-90fb-1823f6c611db",
   "metadata": {},
   "outputs": [],
   "source": []
  }
 ],
 "metadata": {
  "kernelspec": {
   "display_name": "anaconda-panel-2023.05-py310",
   "language": "python",
   "name": "conda-env-anaconda-panel-2023.05-py310-py"
  },
  "language_info": {
   "codemirror_mode": {
    "name": "ipython",
    "version": 3
   },
   "file_extension": ".py",
   "mimetype": "text/x-python",
   "name": "python",
   "nbconvert_exporter": "python",
   "pygments_lexer": "ipython3",
   "version": "3.11.4"
  }
 },
 "nbformat": 4,
 "nbformat_minor": 5
}
